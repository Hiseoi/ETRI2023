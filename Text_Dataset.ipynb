{
  "cells": [
    {
      "cell_type": "markdown",
      "metadata": {
        "id": "view-in-github",
        "colab_type": "text"
      },
      "source": [
        "<a href=\"https://colab.research.google.com/github/Hiseoi/ETRI2023/blob/main/Text_Dataset.ipynb\" target=\"_parent\"><img src=\"https://colab.research.google.com/assets/colab-badge.svg\" alt=\"Open In Colab\"/></a>"
      ]
    },
    {
      "cell_type": "code",
      "execution_count": null,
      "metadata": {
        "id": "xXcJ0SwMTwDu"
      },
      "outputs": [],
      "source": [
        "import pandas as pd\n",
        "import os"
      ]
    },
    {
      "cell_type": "code",
      "execution_count": null,
      "metadata": {
        "id": "nuwgTWgAT_-m"
      },
      "outputs": [],
      "source": [
        "#발화자 text dataset 생성 \n",
        "dirfile = pd.read_csv('/content/drive/MyDrive/ETRI/text_set/li_train.csv')\n",
        "idxnum=len(dirfile)\n",
        "Txt_Train = []\n",
        "for i in range (idxnum):\n",
        "    seg=dirfile.loc[i,'Seg']\n",
        "    emdir=dirfile.loc[i, 'Emotion']\n",
        "    if emdir == 'happy':\n",
        "        A=int(0)\n",
        "    elif emdir == 'surprise' :\n",
        "        A=int(1)\n",
        "    elif emdir == 'angry' :\n",
        "        A=int(2)\n",
        "    elif emdir == 'neutral' :\n",
        "            A=int(3)\n",
        "    elif emdir == 'disgust' :\n",
        "        A=int(4)\n",
        "    elif emdir == 'fear' :\n",
        "        A=int(5)\n",
        "    else :\n",
        "        A=int(6)\n",
        "\n",
        "# 텍스트 파일\n",
        "    txtdir= dirfile.loc[i,'txt_path']\n",
        "    txtfile= open(txtdir,'r')\n",
        "    txtread = txtfile.readlines()\n",
        "    TRAIN=[seg ,A ,txtread]\n",
        "    Txt_Train.append(TRAIN)"
      ]
    },
    {
      "cell_type": "code",
      "source": [
        "Txt_Traindf=pd.DataFrame(Txt_Train)\n",
        "Txt_Traindf.to_csv('/content/drive/MyDrive/ETRI/text_set/li_traindata.tsv', index=True, sep=\"\\t\")\n",
        "print(Txt_Train)"
      ],
      "metadata": {
        "id": "GnRiU8loP4BF"
      },
      "execution_count": null,
      "outputs": []
    },
    {
      "cell_type": "code",
      "execution_count": null,
      "metadata": {
        "id": "7Cn4pLpltryd"
      },
      "outputs": [],
      "source": [
        "#발화자 text dataset 생성 \n",
        "dirfile = pd.read_csv('/content/drive/MyDrive/ETRI/text_set/li_test.csv')\n",
        "\n",
        "idxnum=len(dirfile)\n",
        "Txt_Test = []\n",
        "\n",
        "for i in range (idxnum):\n",
        "    seg=dirfile.loc[i,'Seg']\n",
        "\n",
        "    emdir=dirfile.loc[i, 'Emotion']\n",
        "    if emdir == 'happy':\n",
        "        A=int(0)\n",
        "    elif emdir == 'surprise' :\n",
        "        A=int(1)\n",
        "    elif emdir == 'angry' :\n",
        "        A=int(2)\n",
        "    elif emdir == 'neutral' :\n",
        "        A=int(3)\n",
        "    elif emdir == 'disgust' :\n",
        "        A=int(4)\n",
        "    elif emdir == 'fear' :\n",
        "        A=int(5)\n",
        "    else :\n",
        "        A=int(6)\n",
        "\n",
        "# 텍스트 파일\n",
        "    txtdir= dirfile.loc[i,'txt_path']\n",
        "    txtfile= open(txtdir,'r')\n",
        "    txtread = txtfile.readlines()\n",
        "\n",
        "    TEST=[seg ,A ,txtread]\n",
        "\n",
        "    Txt_Test.append(TEST)"
      ]
    },
    {
      "cell_type": "code",
      "execution_count": null,
      "metadata": {
        "id": "vbMZYMf1Zfcq"
      },
      "outputs": [],
      "source": [
        "Txt_Testdf=pd.DataFrame(Txt_Test)\n",
        "print(Txt_Test)"
      ]
    },
    {
      "cell_type": "code",
      "execution_count": null,
      "metadata": {
        "id": "QI3slKAwpXx2"
      },
      "outputs": [],
      "source": [
        "Txt_Testdf.to_csv('/content/drive/MyDrive/ETRI/text_set/li_testdata.tsv', index=True, sep=\"\\t\")"
      ]
    },
    {
      "cell_type": "code",
      "execution_count": null,
      "metadata": {
        "id": "f7apatuAr3pS"
      },
      "outputs": [],
      "source": [
        "Txt_Sample = pd.read_csv('/content/drive/MyDrive/sample_txt_train.tsv', delimiter = '\\t')\n",
        "\n",
        "print(Txt_Sample)"
      ]
    }
  ],
  "metadata": {
    "colab": {
      "provenance": [],
      "machine_shape": "hm",
      "mount_file_id": "1I19bfG3UsYjHAWAArh6QFC3y5UN145u6",
      "authorship_tag": "ABX9TyO6JzEe0o10QngLNMZYb6be",
      "include_colab_link": true
    },
    "kernelspec": {
      "display_name": "Python 3",
      "name": "python3"
    },
    "language_info": {
      "name": "python"
    },
    "gpuClass": "standard"
  },
  "nbformat": 4,
  "nbformat_minor": 0
}