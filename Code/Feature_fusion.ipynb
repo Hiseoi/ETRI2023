{
  "nbformat": 4,
  "nbformat_minor": 0,
  "metadata": {
    "colab": {
      "provenance": []
    },
    "kernelspec": {
      "name": "python3",
      "display_name": "Python 3"
    },
    "language_info": {
      "name": "python"
    },
    "accelerator": "GPU",
    "gpuClass": "standard"
  },
  "cells": [
    {
      "cell_type": "markdown",
      "source": [
        "# Ensemble"
      ],
      "metadata": {
        "id": "zFLeJ34uAesi"
      }
    },
    {
      "cell_type": "markdown",
      "source": [
        "# WAV"
      ],
      "metadata": {
        "id": "jqmLVjwGGs-j"
      }
    },
    {
      "cell_type": "code",
      "source": [
        "from keras.models import load_model\n",
        "import numpy as np\n",
        "import pandas as pd\n",
        "from sklearn import metrics"
      ],
      "metadata": {
        "id": "kbJdZtXpCOqz"
      },
      "execution_count": 1,
      "outputs": []
    },
    {
      "cell_type": "code",
      "source": [
        "from google.colab import drive\n",
        "drive.mount('/content/drive')"
      ],
      "metadata": {
        "id": "2uwaBmtiiHnW",
        "colab": {
          "base_uri": "https://localhost:8080/"
        },
        "outputId": "ea368253-254a-4d98-da49-e6cce675bff8"
      },
      "execution_count": 2,
      "outputs": [
        {
          "output_type": "stream",
          "name": "stdout",
          "text": [
            "Drive already mounted at /content/drive; to attempt to forcibly remount, call drive.mount(\"/content/drive\", force_remount=True).\n"
          ]
        }
      ]
    },
    {
      "cell_type": "code",
      "execution_count": 3,
      "metadata": {
        "id": "v5g5meuXAcJN"
      },
      "outputs": [],
      "source": [
        "from keras.models import load_model\n",
        "\n",
        "wav_sp_model = load_model('/content/drive/MyDrive/ETRI/sp_smote_model.h5')\n",
        "wav_li_model = load_model('/content/drive/MyDrive/ETRI/li_smote_model.h5')"
      ]
    },
    {
      "cell_type": "code",
      "source": [
        "X_sp_test = np.load('/content/drive/MyDrive/ETRI/X_sp_test_2d.npy')\n",
        "y_sp_test = np.load('/content/drive/MyDrive/ETRI/y_sp_test_2d.npy')\n",
        "\n",
        "X_li_test = np.load('/content/drive/MyDrive/ETRI/X_li_test_2d.npy')\n",
        "y_li_test = np.load('/content/drive/MyDrive/ETRI/y_li_test_2d.npy')"
      ],
      "metadata": {
        "id": "ciVZ_xOxCBWA"
      },
      "execution_count": 4,
      "outputs": []
    },
    {
      "cell_type": "code",
      "source": [
        "sp_score = wav_sp_model.evaluate(X_sp_test, y_sp_test , verbose=1)"
      ],
      "metadata": {
        "colab": {
          "base_uri": "https://localhost:8080/"
        },
        "id": "6c2DnOQbzrtw",
        "outputId": "a8ec89b6-f07a-4cb1-b39a-9662f5f27cea"
      },
      "execution_count": 5,
      "outputs": [
        {
          "output_type": "stream",
          "name": "stdout",
          "text": [
            "65/65 [==============================] - 5s 13ms/step - loss: 2.6224 - accuracy: 0.4203 - precision: 0.4387 - recall: 0.3966 - auc: 0.7738\n"
          ]
        }
      ]
    },
    {
      "cell_type": "markdown",
      "source": [
        "Speaker"
      ],
      "metadata": {
        "id": "ELFIlOnErXsF"
      }
    },
    {
      "cell_type": "code",
      "source": [
        "wav_y_sp_predict_array = wav_sp_model.predict(X_sp_test)\n",
        "wav_y_sp_predict = pd.DataFrame(wav_y_sp_predict_array)"
      ],
      "metadata": {
        "colab": {
          "base_uri": "https://localhost:8080/"
        },
        "id": "HzzLo9suC93a",
        "outputId": "8f54ac74-569a-462d-ceb4-4b2772e8e0b2"
      },
      "execution_count": 6,
      "outputs": [
        {
          "output_type": "stream",
          "name": "stdout",
          "text": [
            "65/65 [==============================] - 1s 10ms/step\n"
          ]
        }
      ]
    },
    {
      "cell_type": "code",
      "source": [
        "y_sp_test = y_sp_test.argmax(axis=1)"
      ],
      "metadata": {
        "id": "Ufx-ro3Uxszc"
      },
      "execution_count": 7,
      "outputs": []
    },
    {
      "cell_type": "code",
      "source": [
        "wav_y_sp_predict_array = wav_y_sp_predict_array.argmax(axis=1)\n",
        "print('Wav only Speaker f1 score:', metrics.f1_score(y_sp_test,wav_y_sp_predict_array, average='weighted'))"
      ],
      "metadata": {
        "colab": {
          "base_uri": "https://localhost:8080/"
        },
        "id": "UjyFleFeDisA",
        "outputId": "d4b3c744-7733-4791-9491-2aed6d8a78db"
      },
      "execution_count": 8,
      "outputs": [
        {
          "output_type": "stream",
          "name": "stdout",
          "text": [
            "Wav only Speaker f1 score: 0.4172567219845013\n"
          ]
        }
      ]
    },
    {
      "cell_type": "markdown",
      "source": [
        "Listener"
      ],
      "metadata": {
        "id": "xABRhQ1jrZKi"
      }
    },
    {
      "cell_type": "code",
      "source": [
        "wav_y_li_predict_array = wav_li_model.predict(X_li_test)\n",
        "wav_y_li_predict = pd.DataFrame(wav_y_li_predict_array)"
      ],
      "metadata": {
        "colab": {
          "base_uri": "https://localhost:8080/"
        },
        "id": "XK_tNhSZDbHj",
        "outputId": "4a337e67-7ad6-4a75-f63d-1a346916d324"
      },
      "execution_count": 9,
      "outputs": [
        {
          "output_type": "stream",
          "name": "stdout",
          "text": [
            "65/65 [==============================] - 1s 8ms/step\n"
          ]
        }
      ]
    },
    {
      "cell_type": "code",
      "source": [
        "y_li_test = y_li_test.argmax(axis=1)"
      ],
      "metadata": {
        "id": "uUlWKgLxxw9z"
      },
      "execution_count": 10,
      "outputs": []
    },
    {
      "cell_type": "code",
      "source": [
        "wav_y_li_predict_array = wav_y_li_predict_array.argmax(axis=1)\n",
        "print('Wav only Listener f1 score:', metrics.f1_score(y_li_test, wav_y_li_predict_array, average='weighted'))"
      ],
      "metadata": {
        "colab": {
          "base_uri": "https://localhost:8080/"
        },
        "id": "AHJyhp4MD8oL",
        "outputId": "354ecad1-8e84-444e-fbea-f70559bdd2cf"
      },
      "execution_count": 11,
      "outputs": [
        {
          "output_type": "stream",
          "name": "stdout",
          "text": [
            "Wav only Listener f1 score: 0.4338047208673371\n"
          ]
        }
      ]
    },
    {
      "cell_type": "markdown",
      "source": [
        "#TXT"
      ],
      "metadata": {
        "id": "_iNUdAzYWBRd"
      }
    },
    {
      "cell_type": "markdown",
      "source": [
        "Speaker"
      ],
      "metadata": {
        "id": "yAnRYH06rbXN"
      }
    },
    {
      "cell_type": "code",
      "source": [
        "txt_sp_predict = np.load('/content/drive/MyDrive/ETRI/spresult.npy')\n",
        "txt_sp_predict = pd.DataFrame(txt_sp_predict)\n",
        "txt_sp_predict = txt_sp_predict.drop(index=[0])\n",
        "txt_sp_predict.reset_index(drop=True,inplace=True)\n",
        "txt_sp_predict"
      ],
      "metadata": {
        "colab": {
          "base_uri": "https://localhost:8080/",
          "height": 423
        },
        "id": "w1HXQk0lWCOR",
        "outputId": "85e9b0dd-6c0d-4352-af91-621600375980"
      },
      "execution_count": 12,
      "outputs": [
        {
          "output_type": "execute_result",
          "data": {
            "text/plain": [
              "             0         1         2         3         4         5         6\n",
              "0    -1.798508  4.894300 -0.286733 -0.210056 -0.736293  0.813443 -2.307131\n",
              "1     1.915350 -0.860789 -1.798358  6.024409 -1.707581 -2.716047 -1.113720\n",
              "2    -0.866151 -1.437498 -1.158423  0.934686 -1.615796 -0.883175  5.554650\n",
              "3    -2.044824 -0.397857  5.673892 -2.534038  0.706664 -0.924193 -1.257557\n",
              "4     0.036334 -1.421648 -0.732702  6.855047 -0.843382 -2.739183 -1.556493\n",
              "...        ...       ...       ...       ...       ...       ...       ...\n",
              "2060 -2.737803 -2.115296  5.690709  1.978973 -0.072295 -2.755354 -0.957845\n",
              "2061 -1.907726 -1.981395  2.215895 -1.171310 -0.812105 -1.282589  4.874800\n",
              "2062 -1.103541 -1.621189 -0.258126 -0.838899 -1.096202 -0.614918  6.071450\n",
              "2063 -1.630271 -1.463187  0.555040 -1.269137 -0.911286 -0.654169  5.781003\n",
              "2064  0.293970  5.605303 -1.446917 -0.713066 -0.942741 -0.929178 -1.404853\n",
              "\n",
              "[2065 rows x 7 columns]"
            ],
            "text/html": [
              "\n",
              "  <div id=\"df-b74f3825-78c3-42eb-b496-7b5ca3b17121\">\n",
              "    <div class=\"colab-df-container\">\n",
              "      <div>\n",
              "<style scoped>\n",
              "    .dataframe tbody tr th:only-of-type {\n",
              "        vertical-align: middle;\n",
              "    }\n",
              "\n",
              "    .dataframe tbody tr th {\n",
              "        vertical-align: top;\n",
              "    }\n",
              "\n",
              "    .dataframe thead th {\n",
              "        text-align: right;\n",
              "    }\n",
              "</style>\n",
              "<table border=\"1\" class=\"dataframe\">\n",
              "  <thead>\n",
              "    <tr style=\"text-align: right;\">\n",
              "      <th></th>\n",
              "      <th>0</th>\n",
              "      <th>1</th>\n",
              "      <th>2</th>\n",
              "      <th>3</th>\n",
              "      <th>4</th>\n",
              "      <th>5</th>\n",
              "      <th>6</th>\n",
              "    </tr>\n",
              "  </thead>\n",
              "  <tbody>\n",
              "    <tr>\n",
              "      <th>0</th>\n",
              "      <td>-1.798508</td>\n",
              "      <td>4.894300</td>\n",
              "      <td>-0.286733</td>\n",
              "      <td>-0.210056</td>\n",
              "      <td>-0.736293</td>\n",
              "      <td>0.813443</td>\n",
              "      <td>-2.307131</td>\n",
              "    </tr>\n",
              "    <tr>\n",
              "      <th>1</th>\n",
              "      <td>1.915350</td>\n",
              "      <td>-0.860789</td>\n",
              "      <td>-1.798358</td>\n",
              "      <td>6.024409</td>\n",
              "      <td>-1.707581</td>\n",
              "      <td>-2.716047</td>\n",
              "      <td>-1.113720</td>\n",
              "    </tr>\n",
              "    <tr>\n",
              "      <th>2</th>\n",
              "      <td>-0.866151</td>\n",
              "      <td>-1.437498</td>\n",
              "      <td>-1.158423</td>\n",
              "      <td>0.934686</td>\n",
              "      <td>-1.615796</td>\n",
              "      <td>-0.883175</td>\n",
              "      <td>5.554650</td>\n",
              "    </tr>\n",
              "    <tr>\n",
              "      <th>3</th>\n",
              "      <td>-2.044824</td>\n",
              "      <td>-0.397857</td>\n",
              "      <td>5.673892</td>\n",
              "      <td>-2.534038</td>\n",
              "      <td>0.706664</td>\n",
              "      <td>-0.924193</td>\n",
              "      <td>-1.257557</td>\n",
              "    </tr>\n",
              "    <tr>\n",
              "      <th>4</th>\n",
              "      <td>0.036334</td>\n",
              "      <td>-1.421648</td>\n",
              "      <td>-0.732702</td>\n",
              "      <td>6.855047</td>\n",
              "      <td>-0.843382</td>\n",
              "      <td>-2.739183</td>\n",
              "      <td>-1.556493</td>\n",
              "    </tr>\n",
              "    <tr>\n",
              "      <th>...</th>\n",
              "      <td>...</td>\n",
              "      <td>...</td>\n",
              "      <td>...</td>\n",
              "      <td>...</td>\n",
              "      <td>...</td>\n",
              "      <td>...</td>\n",
              "      <td>...</td>\n",
              "    </tr>\n",
              "    <tr>\n",
              "      <th>2060</th>\n",
              "      <td>-2.737803</td>\n",
              "      <td>-2.115296</td>\n",
              "      <td>5.690709</td>\n",
              "      <td>1.978973</td>\n",
              "      <td>-0.072295</td>\n",
              "      <td>-2.755354</td>\n",
              "      <td>-0.957845</td>\n",
              "    </tr>\n",
              "    <tr>\n",
              "      <th>2061</th>\n",
              "      <td>-1.907726</td>\n",
              "      <td>-1.981395</td>\n",
              "      <td>2.215895</td>\n",
              "      <td>-1.171310</td>\n",
              "      <td>-0.812105</td>\n",
              "      <td>-1.282589</td>\n",
              "      <td>4.874800</td>\n",
              "    </tr>\n",
              "    <tr>\n",
              "      <th>2062</th>\n",
              "      <td>-1.103541</td>\n",
              "      <td>-1.621189</td>\n",
              "      <td>-0.258126</td>\n",
              "      <td>-0.838899</td>\n",
              "      <td>-1.096202</td>\n",
              "      <td>-0.614918</td>\n",
              "      <td>6.071450</td>\n",
              "    </tr>\n",
              "    <tr>\n",
              "      <th>2063</th>\n",
              "      <td>-1.630271</td>\n",
              "      <td>-1.463187</td>\n",
              "      <td>0.555040</td>\n",
              "      <td>-1.269137</td>\n",
              "      <td>-0.911286</td>\n",
              "      <td>-0.654169</td>\n",
              "      <td>5.781003</td>\n",
              "    </tr>\n",
              "    <tr>\n",
              "      <th>2064</th>\n",
              "      <td>0.293970</td>\n",
              "      <td>5.605303</td>\n",
              "      <td>-1.446917</td>\n",
              "      <td>-0.713066</td>\n",
              "      <td>-0.942741</td>\n",
              "      <td>-0.929178</td>\n",
              "      <td>-1.404853</td>\n",
              "    </tr>\n",
              "  </tbody>\n",
              "</table>\n",
              "<p>2065 rows × 7 columns</p>\n",
              "</div>\n",
              "      <button class=\"colab-df-convert\" onclick=\"convertToInteractive('df-b74f3825-78c3-42eb-b496-7b5ca3b17121')\"\n",
              "              title=\"Convert this dataframe to an interactive table.\"\n",
              "              style=\"display:none;\">\n",
              "        \n",
              "  <svg xmlns=\"http://www.w3.org/2000/svg\" height=\"24px\"viewBox=\"0 0 24 24\"\n",
              "       width=\"24px\">\n",
              "    <path d=\"M0 0h24v24H0V0z\" fill=\"none\"/>\n",
              "    <path d=\"M18.56 5.44l.94 2.06.94-2.06 2.06-.94-2.06-.94-.94-2.06-.94 2.06-2.06.94zm-11 1L8.5 8.5l.94-2.06 2.06-.94-2.06-.94L8.5 2.5l-.94 2.06-2.06.94zm10 10l.94 2.06.94-2.06 2.06-.94-2.06-.94-.94-2.06-.94 2.06-2.06.94z\"/><path d=\"M17.41 7.96l-1.37-1.37c-.4-.4-.92-.59-1.43-.59-.52 0-1.04.2-1.43.59L10.3 9.45l-7.72 7.72c-.78.78-.78 2.05 0 2.83L4 21.41c.39.39.9.59 1.41.59.51 0 1.02-.2 1.41-.59l7.78-7.78 2.81-2.81c.8-.78.8-2.07 0-2.86zM5.41 20L4 18.59l7.72-7.72 1.47 1.35L5.41 20z\"/>\n",
              "  </svg>\n",
              "      </button>\n",
              "      \n",
              "  <style>\n",
              "    .colab-df-container {\n",
              "      display:flex;\n",
              "      flex-wrap:wrap;\n",
              "      gap: 12px;\n",
              "    }\n",
              "\n",
              "    .colab-df-convert {\n",
              "      background-color: #E8F0FE;\n",
              "      border: none;\n",
              "      border-radius: 50%;\n",
              "      cursor: pointer;\n",
              "      display: none;\n",
              "      fill: #1967D2;\n",
              "      height: 32px;\n",
              "      padding: 0 0 0 0;\n",
              "      width: 32px;\n",
              "    }\n",
              "\n",
              "    .colab-df-convert:hover {\n",
              "      background-color: #E2EBFA;\n",
              "      box-shadow: 0px 1px 2px rgba(60, 64, 67, 0.3), 0px 1px 3px 1px rgba(60, 64, 67, 0.15);\n",
              "      fill: #174EA6;\n",
              "    }\n",
              "\n",
              "    [theme=dark] .colab-df-convert {\n",
              "      background-color: #3B4455;\n",
              "      fill: #D2E3FC;\n",
              "    }\n",
              "\n",
              "    [theme=dark] .colab-df-convert:hover {\n",
              "      background-color: #434B5C;\n",
              "      box-shadow: 0px 1px 3px 1px rgba(0, 0, 0, 0.15);\n",
              "      filter: drop-shadow(0px 1px 2px rgba(0, 0, 0, 0.3));\n",
              "      fill: #FFFFFF;\n",
              "    }\n",
              "  </style>\n",
              "\n",
              "      <script>\n",
              "        const buttonEl =\n",
              "          document.querySelector('#df-b74f3825-78c3-42eb-b496-7b5ca3b17121 button.colab-df-convert');\n",
              "        buttonEl.style.display =\n",
              "          google.colab.kernel.accessAllowed ? 'block' : 'none';\n",
              "\n",
              "        async function convertToInteractive(key) {\n",
              "          const element = document.querySelector('#df-b74f3825-78c3-42eb-b496-7b5ca3b17121');\n",
              "          const dataTable =\n",
              "            await google.colab.kernel.invokeFunction('convertToInteractive',\n",
              "                                                     [key], {});\n",
              "          if (!dataTable) return;\n",
              "\n",
              "          const docLinkHtml = 'Like what you see? Visit the ' +\n",
              "            '<a target=\"_blank\" href=https://colab.research.google.com/notebooks/data_table.ipynb>data table notebook</a>'\n",
              "            + ' to learn more about interactive tables.';\n",
              "          element.innerHTML = '';\n",
              "          dataTable['output_type'] = 'display_data';\n",
              "          await google.colab.output.renderOutput(dataTable, element);\n",
              "          const docLink = document.createElement('div');\n",
              "          docLink.innerHTML = docLinkHtml;\n",
              "          element.appendChild(docLink);\n",
              "        }\n",
              "      </script>\n",
              "    </div>\n",
              "  </div>\n",
              "  "
            ]
          },
          "metadata": {},
          "execution_count": 12
        }
      ]
    },
    {
      "cell_type": "code",
      "source": [
        "txt_sp_predict_array = txt_sp_predict.to_numpy()\n",
        "txt_sp_predict_array = txt_sp_predict_array.argmax(axis=1)\n",
        "\n",
        "print('Txt only Speaker f1 score:', metrics.f1_score(y_sp_test, txt_sp_predict_array, average='weighted'))"
      ],
      "metadata": {
        "colab": {
          "base_uri": "https://localhost:8080/"
        },
        "id": "Trt92TAmFpcY",
        "outputId": "54c59e52-dcbd-462e-93f4-267970b410ad"
      },
      "execution_count": 13,
      "outputs": [
        {
          "output_type": "stream",
          "name": "stdout",
          "text": [
            "Txt only Speaker f1 score: 0.642401380200389\n"
          ]
        }
      ]
    },
    {
      "cell_type": "markdown",
      "source": [
        "Listener"
      ],
      "metadata": {
        "id": "Bcc0DYcirelO"
      }
    },
    {
      "cell_type": "code",
      "source": [
        "txt_li_predict = np.load('/content/drive/MyDrive/ETRI/liresult.npy')\n",
        "txt_li_predict = pd.DataFrame(txt_li_predict)\n",
        "txt_li_predict = txt_li_predict.drop(index=[0])\n",
        "txt_li_predict.reset_index(drop=True,inplace=True)\n",
        "txt_li_predict"
      ],
      "metadata": {
        "colab": {
          "base_uri": "https://localhost:8080/",
          "height": 423
        },
        "id": "0tN98MnSWXDe",
        "outputId": "bfe8bb4a-3401-48d2-ab84-fcf8f0c55adc"
      },
      "execution_count": 14,
      "outputs": [
        {
          "output_type": "execute_result",
          "data": {
            "text/plain": [
              "             0         1         2         3         4         5         6\n",
              "0     0.270496  5.187420 -1.190842 -0.576842 -1.474265 -0.166616 -1.985744\n",
              "1    -2.575363 -0.891967  3.182264  5.015620  0.130352 -2.282020 -1.968997\n",
              "2    -1.979949  1.880200  2.324972 -2.863710 -0.932418  2.182127 -0.519643\n",
              "3    -1.292947 -1.730762  0.406384  3.137652  3.629740 -1.688266 -1.754501\n",
              "4    -0.816566 -0.082272 -0.735215  6.859799 -1.212290 -2.309798 -1.257306\n",
              "...        ...       ...       ...       ...       ...       ...       ...\n",
              "2061 -0.975771 -1.660425 -0.557225  6.079582  0.261153 -2.294123 -0.544869\n",
              "2062 -1.210415  2.438783 -1.636460  2.240434 -2.953864 -1.709802  2.175102\n",
              "2063  2.271394 -2.157246 -1.864026  0.219487 -1.649312 -1.940477  4.250450\n",
              "2064 -1.124320 -1.820249 -0.795634  0.526966 -1.593238 -1.678365  5.330072\n",
              "2065 -0.799592 -0.519843 -0.564101  6.962261 -1.061780 -2.363783 -1.176849\n",
              "\n",
              "[2066 rows x 7 columns]"
            ],
            "text/html": [
              "\n",
              "  <div id=\"df-55c3f43a-be65-450d-8d7d-bb2abb74fbfb\">\n",
              "    <div class=\"colab-df-container\">\n",
              "      <div>\n",
              "<style scoped>\n",
              "    .dataframe tbody tr th:only-of-type {\n",
              "        vertical-align: middle;\n",
              "    }\n",
              "\n",
              "    .dataframe tbody tr th {\n",
              "        vertical-align: top;\n",
              "    }\n",
              "\n",
              "    .dataframe thead th {\n",
              "        text-align: right;\n",
              "    }\n",
              "</style>\n",
              "<table border=\"1\" class=\"dataframe\">\n",
              "  <thead>\n",
              "    <tr style=\"text-align: right;\">\n",
              "      <th></th>\n",
              "      <th>0</th>\n",
              "      <th>1</th>\n",
              "      <th>2</th>\n",
              "      <th>3</th>\n",
              "      <th>4</th>\n",
              "      <th>5</th>\n",
              "      <th>6</th>\n",
              "    </tr>\n",
              "  </thead>\n",
              "  <tbody>\n",
              "    <tr>\n",
              "      <th>0</th>\n",
              "      <td>0.270496</td>\n",
              "      <td>5.187420</td>\n",
              "      <td>-1.190842</td>\n",
              "      <td>-0.576842</td>\n",
              "      <td>-1.474265</td>\n",
              "      <td>-0.166616</td>\n",
              "      <td>-1.985744</td>\n",
              "    </tr>\n",
              "    <tr>\n",
              "      <th>1</th>\n",
              "      <td>-2.575363</td>\n",
              "      <td>-0.891967</td>\n",
              "      <td>3.182264</td>\n",
              "      <td>5.015620</td>\n",
              "      <td>0.130352</td>\n",
              "      <td>-2.282020</td>\n",
              "      <td>-1.968997</td>\n",
              "    </tr>\n",
              "    <tr>\n",
              "      <th>2</th>\n",
              "      <td>-1.979949</td>\n",
              "      <td>1.880200</td>\n",
              "      <td>2.324972</td>\n",
              "      <td>-2.863710</td>\n",
              "      <td>-0.932418</td>\n",
              "      <td>2.182127</td>\n",
              "      <td>-0.519643</td>\n",
              "    </tr>\n",
              "    <tr>\n",
              "      <th>3</th>\n",
              "      <td>-1.292947</td>\n",
              "      <td>-1.730762</td>\n",
              "      <td>0.406384</td>\n",
              "      <td>3.137652</td>\n",
              "      <td>3.629740</td>\n",
              "      <td>-1.688266</td>\n",
              "      <td>-1.754501</td>\n",
              "    </tr>\n",
              "    <tr>\n",
              "      <th>4</th>\n",
              "      <td>-0.816566</td>\n",
              "      <td>-0.082272</td>\n",
              "      <td>-0.735215</td>\n",
              "      <td>6.859799</td>\n",
              "      <td>-1.212290</td>\n",
              "      <td>-2.309798</td>\n",
              "      <td>-1.257306</td>\n",
              "    </tr>\n",
              "    <tr>\n",
              "      <th>...</th>\n",
              "      <td>...</td>\n",
              "      <td>...</td>\n",
              "      <td>...</td>\n",
              "      <td>...</td>\n",
              "      <td>...</td>\n",
              "      <td>...</td>\n",
              "      <td>...</td>\n",
              "    </tr>\n",
              "    <tr>\n",
              "      <th>2061</th>\n",
              "      <td>-0.975771</td>\n",
              "      <td>-1.660425</td>\n",
              "      <td>-0.557225</td>\n",
              "      <td>6.079582</td>\n",
              "      <td>0.261153</td>\n",
              "      <td>-2.294123</td>\n",
              "      <td>-0.544869</td>\n",
              "    </tr>\n",
              "    <tr>\n",
              "      <th>2062</th>\n",
              "      <td>-1.210415</td>\n",
              "      <td>2.438783</td>\n",
              "      <td>-1.636460</td>\n",
              "      <td>2.240434</td>\n",
              "      <td>-2.953864</td>\n",
              "      <td>-1.709802</td>\n",
              "      <td>2.175102</td>\n",
              "    </tr>\n",
              "    <tr>\n",
              "      <th>2063</th>\n",
              "      <td>2.271394</td>\n",
              "      <td>-2.157246</td>\n",
              "      <td>-1.864026</td>\n",
              "      <td>0.219487</td>\n",
              "      <td>-1.649312</td>\n",
              "      <td>-1.940477</td>\n",
              "      <td>4.250450</td>\n",
              "    </tr>\n",
              "    <tr>\n",
              "      <th>2064</th>\n",
              "      <td>-1.124320</td>\n",
              "      <td>-1.820249</td>\n",
              "      <td>-0.795634</td>\n",
              "      <td>0.526966</td>\n",
              "      <td>-1.593238</td>\n",
              "      <td>-1.678365</td>\n",
              "      <td>5.330072</td>\n",
              "    </tr>\n",
              "    <tr>\n",
              "      <th>2065</th>\n",
              "      <td>-0.799592</td>\n",
              "      <td>-0.519843</td>\n",
              "      <td>-0.564101</td>\n",
              "      <td>6.962261</td>\n",
              "      <td>-1.061780</td>\n",
              "      <td>-2.363783</td>\n",
              "      <td>-1.176849</td>\n",
              "    </tr>\n",
              "  </tbody>\n",
              "</table>\n",
              "<p>2066 rows × 7 columns</p>\n",
              "</div>\n",
              "      <button class=\"colab-df-convert\" onclick=\"convertToInteractive('df-55c3f43a-be65-450d-8d7d-bb2abb74fbfb')\"\n",
              "              title=\"Convert this dataframe to an interactive table.\"\n",
              "              style=\"display:none;\">\n",
              "        \n",
              "  <svg xmlns=\"http://www.w3.org/2000/svg\" height=\"24px\"viewBox=\"0 0 24 24\"\n",
              "       width=\"24px\">\n",
              "    <path d=\"M0 0h24v24H0V0z\" fill=\"none\"/>\n",
              "    <path d=\"M18.56 5.44l.94 2.06.94-2.06 2.06-.94-2.06-.94-.94-2.06-.94 2.06-2.06.94zm-11 1L8.5 8.5l.94-2.06 2.06-.94-2.06-.94L8.5 2.5l-.94 2.06-2.06.94zm10 10l.94 2.06.94-2.06 2.06-.94-2.06-.94-.94-2.06-.94 2.06-2.06.94z\"/><path d=\"M17.41 7.96l-1.37-1.37c-.4-.4-.92-.59-1.43-.59-.52 0-1.04.2-1.43.59L10.3 9.45l-7.72 7.72c-.78.78-.78 2.05 0 2.83L4 21.41c.39.39.9.59 1.41.59.51 0 1.02-.2 1.41-.59l7.78-7.78 2.81-2.81c.8-.78.8-2.07 0-2.86zM5.41 20L4 18.59l7.72-7.72 1.47 1.35L5.41 20z\"/>\n",
              "  </svg>\n",
              "      </button>\n",
              "      \n",
              "  <style>\n",
              "    .colab-df-container {\n",
              "      display:flex;\n",
              "      flex-wrap:wrap;\n",
              "      gap: 12px;\n",
              "    }\n",
              "\n",
              "    .colab-df-convert {\n",
              "      background-color: #E8F0FE;\n",
              "      border: none;\n",
              "      border-radius: 50%;\n",
              "      cursor: pointer;\n",
              "      display: none;\n",
              "      fill: #1967D2;\n",
              "      height: 32px;\n",
              "      padding: 0 0 0 0;\n",
              "      width: 32px;\n",
              "    }\n",
              "\n",
              "    .colab-df-convert:hover {\n",
              "      background-color: #E2EBFA;\n",
              "      box-shadow: 0px 1px 2px rgba(60, 64, 67, 0.3), 0px 1px 3px 1px rgba(60, 64, 67, 0.15);\n",
              "      fill: #174EA6;\n",
              "    }\n",
              "\n",
              "    [theme=dark] .colab-df-convert {\n",
              "      background-color: #3B4455;\n",
              "      fill: #D2E3FC;\n",
              "    }\n",
              "\n",
              "    [theme=dark] .colab-df-convert:hover {\n",
              "      background-color: #434B5C;\n",
              "      box-shadow: 0px 1px 3px 1px rgba(0, 0, 0, 0.15);\n",
              "      filter: drop-shadow(0px 1px 2px rgba(0, 0, 0, 0.3));\n",
              "      fill: #FFFFFF;\n",
              "    }\n",
              "  </style>\n",
              "\n",
              "      <script>\n",
              "        const buttonEl =\n",
              "          document.querySelector('#df-55c3f43a-be65-450d-8d7d-bb2abb74fbfb button.colab-df-convert');\n",
              "        buttonEl.style.display =\n",
              "          google.colab.kernel.accessAllowed ? 'block' : 'none';\n",
              "\n",
              "        async function convertToInteractive(key) {\n",
              "          const element = document.querySelector('#df-55c3f43a-be65-450d-8d7d-bb2abb74fbfb');\n",
              "          const dataTable =\n",
              "            await google.colab.kernel.invokeFunction('convertToInteractive',\n",
              "                                                     [key], {});\n",
              "          if (!dataTable) return;\n",
              "\n",
              "          const docLinkHtml = 'Like what you see? Visit the ' +\n",
              "            '<a target=\"_blank\" href=https://colab.research.google.com/notebooks/data_table.ipynb>data table notebook</a>'\n",
              "            + ' to learn more about interactive tables.';\n",
              "          element.innerHTML = '';\n",
              "          dataTable['output_type'] = 'display_data';\n",
              "          await google.colab.output.renderOutput(dataTable, element);\n",
              "          const docLink = document.createElement('div');\n",
              "          docLink.innerHTML = docLinkHtml;\n",
              "          element.appendChild(docLink);\n",
              "        }\n",
              "      </script>\n",
              "    </div>\n",
              "  </div>\n",
              "  "
            ]
          },
          "metadata": {},
          "execution_count": 14
        }
      ]
    },
    {
      "cell_type": "code",
      "source": [
        "txt_li_predict_array = txt_li_predict.to_numpy()\n",
        "txt_li_predict_array = txt_li_predict_array.argmax(axis=1)\n",
        "\n",
        "print('Txt only Listener f1 score:', metrics.f1_score(y_li_test, txt_li_predict_array, average='weighted'))"
      ],
      "metadata": {
        "colab": {
          "base_uri": "https://localhost:8080/"
        },
        "id": "gMc__x6iF0E8",
        "outputId": "095a655a-9820-49d3-aeed-edb12b80183b"
      },
      "execution_count": 15,
      "outputs": [
        {
          "output_type": "stream",
          "name": "stdout",
          "text": [
            "Txt only Listener f1 score: 0.5833988930644401\n"
          ]
        }
      ]
    },
    {
      "cell_type": "markdown",
      "source": [
        "#Ensemble"
      ],
      "metadata": {
        "id": "u5AYERX_GwbD"
      }
    },
    {
      "cell_type": "markdown",
      "source": [
        "Speaker"
      ],
      "metadata": {
        "id": "hXZi8FGtXE9e"
      }
    },
    {
      "cell_type": "code",
      "source": [
        "fusion_sp_predict = pd.DataFrame()\n",
        "fusion_sp_predict = wav_y_sp_predict+txt_sp_predict\n",
        "fusion_sp_predict"
      ],
      "metadata": {
        "colab": {
          "base_uri": "https://localhost:8080/",
          "height": 423
        },
        "id": "5LsadoLGVMGe",
        "outputId": "5b5ef562-3a6c-42e3-9dd9-4f2a458b6330"
      },
      "execution_count": 16,
      "outputs": [
        {
          "output_type": "execute_result",
          "data": {
            "text/plain": [
              "             0         1         2         3         4         5         6\n",
              "0    -1.741196  5.143946 -0.280813  0.446504 -0.722428  0.827362 -2.304353\n",
              "1     1.935521 -0.859604 -1.785511  6.595367 -1.705265 -2.716026 -0.721220\n",
              "2    -0.852220 -1.433308 -1.156128  1.911769 -1.615748 -0.883051  5.556980\n",
              "3    -2.032566 -0.395737  5.674685 -1.584857  0.742047 -0.924165 -1.257321\n",
              "4     0.073584 -1.141143 -0.719604  7.139773 -0.839160 -2.667480 -1.247998\n",
              "...        ...       ...       ...       ...       ...       ...       ...\n",
              "2060 -2.736994 -2.115271  5.690821  2.970187 -0.071789 -2.755330 -0.950534\n",
              "2061 -0.980255 -1.981394  2.234918 -1.120481 -0.810952 -1.281273  4.875006\n",
              "2062 -1.103528 -1.619549  0.708691 -0.826279 -1.081823 -0.614894  6.075954\n",
              "2063 -1.630261 -1.463184  0.570425 -0.311060 -0.911144 -0.641509  5.794724\n",
              "2064  0.294989  5.606500 -1.222642 -0.045005 -0.940853 -0.842130 -1.388343\n",
              "\n",
              "[2065 rows x 7 columns]"
            ],
            "text/html": [
              "\n",
              "  <div id=\"df-048d44d3-23c7-4b58-a567-0213c0fc4833\">\n",
              "    <div class=\"colab-df-container\">\n",
              "      <div>\n",
              "<style scoped>\n",
              "    .dataframe tbody tr th:only-of-type {\n",
              "        vertical-align: middle;\n",
              "    }\n",
              "\n",
              "    .dataframe tbody tr th {\n",
              "        vertical-align: top;\n",
              "    }\n",
              "\n",
              "    .dataframe thead th {\n",
              "        text-align: right;\n",
              "    }\n",
              "</style>\n",
              "<table border=\"1\" class=\"dataframe\">\n",
              "  <thead>\n",
              "    <tr style=\"text-align: right;\">\n",
              "      <th></th>\n",
              "      <th>0</th>\n",
              "      <th>1</th>\n",
              "      <th>2</th>\n",
              "      <th>3</th>\n",
              "      <th>4</th>\n",
              "      <th>5</th>\n",
              "      <th>6</th>\n",
              "    </tr>\n",
              "  </thead>\n",
              "  <tbody>\n",
              "    <tr>\n",
              "      <th>0</th>\n",
              "      <td>-1.741196</td>\n",
              "      <td>5.143946</td>\n",
              "      <td>-0.280813</td>\n",
              "      <td>0.446504</td>\n",
              "      <td>-0.722428</td>\n",
              "      <td>0.827362</td>\n",
              "      <td>-2.304353</td>\n",
              "    </tr>\n",
              "    <tr>\n",
              "      <th>1</th>\n",
              "      <td>1.935521</td>\n",
              "      <td>-0.859604</td>\n",
              "      <td>-1.785511</td>\n",
              "      <td>6.595367</td>\n",
              "      <td>-1.705265</td>\n",
              "      <td>-2.716026</td>\n",
              "      <td>-0.721220</td>\n",
              "    </tr>\n",
              "    <tr>\n",
              "      <th>2</th>\n",
              "      <td>-0.852220</td>\n",
              "      <td>-1.433308</td>\n",
              "      <td>-1.156128</td>\n",
              "      <td>1.911769</td>\n",
              "      <td>-1.615748</td>\n",
              "      <td>-0.883051</td>\n",
              "      <td>5.556980</td>\n",
              "    </tr>\n",
              "    <tr>\n",
              "      <th>3</th>\n",
              "      <td>-2.032566</td>\n",
              "      <td>-0.395737</td>\n",
              "      <td>5.674685</td>\n",
              "      <td>-1.584857</td>\n",
              "      <td>0.742047</td>\n",
              "      <td>-0.924165</td>\n",
              "      <td>-1.257321</td>\n",
              "    </tr>\n",
              "    <tr>\n",
              "      <th>4</th>\n",
              "      <td>0.073584</td>\n",
              "      <td>-1.141143</td>\n",
              "      <td>-0.719604</td>\n",
              "      <td>7.139773</td>\n",
              "      <td>-0.839160</td>\n",
              "      <td>-2.667480</td>\n",
              "      <td>-1.247998</td>\n",
              "    </tr>\n",
              "    <tr>\n",
              "      <th>...</th>\n",
              "      <td>...</td>\n",
              "      <td>...</td>\n",
              "      <td>...</td>\n",
              "      <td>...</td>\n",
              "      <td>...</td>\n",
              "      <td>...</td>\n",
              "      <td>...</td>\n",
              "    </tr>\n",
              "    <tr>\n",
              "      <th>2060</th>\n",
              "      <td>-2.736994</td>\n",
              "      <td>-2.115271</td>\n",
              "      <td>5.690821</td>\n",
              "      <td>2.970187</td>\n",
              "      <td>-0.071789</td>\n",
              "      <td>-2.755330</td>\n",
              "      <td>-0.950534</td>\n",
              "    </tr>\n",
              "    <tr>\n",
              "      <th>2061</th>\n",
              "      <td>-0.980255</td>\n",
              "      <td>-1.981394</td>\n",
              "      <td>2.234918</td>\n",
              "      <td>-1.120481</td>\n",
              "      <td>-0.810952</td>\n",
              "      <td>-1.281273</td>\n",
              "      <td>4.875006</td>\n",
              "    </tr>\n",
              "    <tr>\n",
              "      <th>2062</th>\n",
              "      <td>-1.103528</td>\n",
              "      <td>-1.619549</td>\n",
              "      <td>0.708691</td>\n",
              "      <td>-0.826279</td>\n",
              "      <td>-1.081823</td>\n",
              "      <td>-0.614894</td>\n",
              "      <td>6.075954</td>\n",
              "    </tr>\n",
              "    <tr>\n",
              "      <th>2063</th>\n",
              "      <td>-1.630261</td>\n",
              "      <td>-1.463184</td>\n",
              "      <td>0.570425</td>\n",
              "      <td>-0.311060</td>\n",
              "      <td>-0.911144</td>\n",
              "      <td>-0.641509</td>\n",
              "      <td>5.794724</td>\n",
              "    </tr>\n",
              "    <tr>\n",
              "      <th>2064</th>\n",
              "      <td>0.294989</td>\n",
              "      <td>5.606500</td>\n",
              "      <td>-1.222642</td>\n",
              "      <td>-0.045005</td>\n",
              "      <td>-0.940853</td>\n",
              "      <td>-0.842130</td>\n",
              "      <td>-1.388343</td>\n",
              "    </tr>\n",
              "  </tbody>\n",
              "</table>\n",
              "<p>2065 rows × 7 columns</p>\n",
              "</div>\n",
              "      <button class=\"colab-df-convert\" onclick=\"convertToInteractive('df-048d44d3-23c7-4b58-a567-0213c0fc4833')\"\n",
              "              title=\"Convert this dataframe to an interactive table.\"\n",
              "              style=\"display:none;\">\n",
              "        \n",
              "  <svg xmlns=\"http://www.w3.org/2000/svg\" height=\"24px\"viewBox=\"0 0 24 24\"\n",
              "       width=\"24px\">\n",
              "    <path d=\"M0 0h24v24H0V0z\" fill=\"none\"/>\n",
              "    <path d=\"M18.56 5.44l.94 2.06.94-2.06 2.06-.94-2.06-.94-.94-2.06-.94 2.06-2.06.94zm-11 1L8.5 8.5l.94-2.06 2.06-.94-2.06-.94L8.5 2.5l-.94 2.06-2.06.94zm10 10l.94 2.06.94-2.06 2.06-.94-2.06-.94-.94-2.06-.94 2.06-2.06.94z\"/><path d=\"M17.41 7.96l-1.37-1.37c-.4-.4-.92-.59-1.43-.59-.52 0-1.04.2-1.43.59L10.3 9.45l-7.72 7.72c-.78.78-.78 2.05 0 2.83L4 21.41c.39.39.9.59 1.41.59.51 0 1.02-.2 1.41-.59l7.78-7.78 2.81-2.81c.8-.78.8-2.07 0-2.86zM5.41 20L4 18.59l7.72-7.72 1.47 1.35L5.41 20z\"/>\n",
              "  </svg>\n",
              "      </button>\n",
              "      \n",
              "  <style>\n",
              "    .colab-df-container {\n",
              "      display:flex;\n",
              "      flex-wrap:wrap;\n",
              "      gap: 12px;\n",
              "    }\n",
              "\n",
              "    .colab-df-convert {\n",
              "      background-color: #E8F0FE;\n",
              "      border: none;\n",
              "      border-radius: 50%;\n",
              "      cursor: pointer;\n",
              "      display: none;\n",
              "      fill: #1967D2;\n",
              "      height: 32px;\n",
              "      padding: 0 0 0 0;\n",
              "      width: 32px;\n",
              "    }\n",
              "\n",
              "    .colab-df-convert:hover {\n",
              "      background-color: #E2EBFA;\n",
              "      box-shadow: 0px 1px 2px rgba(60, 64, 67, 0.3), 0px 1px 3px 1px rgba(60, 64, 67, 0.15);\n",
              "      fill: #174EA6;\n",
              "    }\n",
              "\n",
              "    [theme=dark] .colab-df-convert {\n",
              "      background-color: #3B4455;\n",
              "      fill: #D2E3FC;\n",
              "    }\n",
              "\n",
              "    [theme=dark] .colab-df-convert:hover {\n",
              "      background-color: #434B5C;\n",
              "      box-shadow: 0px 1px 3px 1px rgba(0, 0, 0, 0.15);\n",
              "      filter: drop-shadow(0px 1px 2px rgba(0, 0, 0, 0.3));\n",
              "      fill: #FFFFFF;\n",
              "    }\n",
              "  </style>\n",
              "\n",
              "      <script>\n",
              "        const buttonEl =\n",
              "          document.querySelector('#df-048d44d3-23c7-4b58-a567-0213c0fc4833 button.colab-df-convert');\n",
              "        buttonEl.style.display =\n",
              "          google.colab.kernel.accessAllowed ? 'block' : 'none';\n",
              "\n",
              "        async function convertToInteractive(key) {\n",
              "          const element = document.querySelector('#df-048d44d3-23c7-4b58-a567-0213c0fc4833');\n",
              "          const dataTable =\n",
              "            await google.colab.kernel.invokeFunction('convertToInteractive',\n",
              "                                                     [key], {});\n",
              "          if (!dataTable) return;\n",
              "\n",
              "          const docLinkHtml = 'Like what you see? Visit the ' +\n",
              "            '<a target=\"_blank\" href=https://colab.research.google.com/notebooks/data_table.ipynb>data table notebook</a>'\n",
              "            + ' to learn more about interactive tables.';\n",
              "          element.innerHTML = '';\n",
              "          dataTable['output_type'] = 'display_data';\n",
              "          await google.colab.output.renderOutput(dataTable, element);\n",
              "          const docLink = document.createElement('div');\n",
              "          docLink.innerHTML = docLinkHtml;\n",
              "          element.appendChild(docLink);\n",
              "        }\n",
              "      </script>\n",
              "    </div>\n",
              "  </div>\n",
              "  "
            ]
          },
          "metadata": {},
          "execution_count": 16
        }
      ]
    },
    {
      "cell_type": "code",
      "source": [
        "fusion_sp_predict_temp = fusion_sp_predict.to_numpy()\n",
        "fusion_sp_predict_temp = fusion_sp_predict_temp.argmax(axis=1)"
      ],
      "metadata": {
        "id": "97iCjZD0WCS4"
      },
      "execution_count": 17,
      "outputs": []
    },
    {
      "cell_type": "code",
      "source": [
        "print('Wav-Txt Speaker f1 score:', metrics.f1_score(y_sp_test,fusion_sp_predict_temp, average='weighted'))"
      ],
      "metadata": {
        "colab": {
          "base_uri": "https://localhost:8080/"
        },
        "id": "6MZ_09heBv89",
        "outputId": "f4c6277e-5987-4745-8f53-fdd22623c900"
      },
      "execution_count": 18,
      "outputs": [
        {
          "output_type": "stream",
          "name": "stdout",
          "text": [
            "Wav-Txt Speaker f1 score: 0.6468315048917027\n"
          ]
        }
      ]
    },
    {
      "cell_type": "markdown",
      "source": [
        "Listener"
      ],
      "metadata": {
        "id": "GtpumJz6XGdf"
      }
    },
    {
      "cell_type": "code",
      "source": [
        "fusion_li_predict = pd.DataFrame()\n",
        "fusion_li_predict = wav_y_li_predict+txt_li_predict\n",
        "fusion_li_predict"
      ],
      "metadata": {
        "colab": {
          "base_uri": "https://localhost:8080/",
          "height": 423
        },
        "id": "2GvOiotNXD8s",
        "outputId": "c22c1953-8001-4428-fb3c-49396c0b4af2"
      },
      "execution_count": 19,
      "outputs": [
        {
          "output_type": "execute_result",
          "data": {
            "text/plain": [
              "             0         1         2         3         4         5         6\n",
              "0     0.412861  5.188782 -1.063511  0.146784 -1.474260 -0.166370 -1.980679\n",
              "1    -2.575354 -0.891957  3.184493  6.011419  0.130811 -2.282006 -1.967518\n",
              "2    -1.979894  2.498472  2.519571 -2.694396 -0.928888  2.195098 -0.518384\n",
              "3    -1.292943 -1.729540  0.406431  4.135991  3.629740 -1.688264 -1.754115\n",
              "4    -0.816562 -0.082234 -0.734736  7.859262 -1.212286 -2.309785 -1.257305\n",
              "...        ...       ...       ...       ...       ...       ...       ...\n",
              "2061 -0.975762 -1.660425 -0.557225  7.079540  0.261154 -2.294120 -0.544841\n",
              "2062 -1.210391  2.439496 -1.635559  3.238791 -2.953864 -1.709801  2.175106\n",
              "2063  2.271402 -2.156692 -1.862504  0.699720 -1.649312 -1.940457  4.768113\n",
              "2064 -1.124261 -1.604066 -0.793462  0.860614 -1.593236 -1.678197  5.777840\n",
              "2065 -0.799590 -0.519831 -0.563860  7.961991 -1.061780 -2.363783 -1.176834\n",
              "\n",
              "[2066 rows x 7 columns]"
            ],
            "text/html": [
              "\n",
              "  <div id=\"df-55f663f1-06da-441f-8a12-c776b52bb807\">\n",
              "    <div class=\"colab-df-container\">\n",
              "      <div>\n",
              "<style scoped>\n",
              "    .dataframe tbody tr th:only-of-type {\n",
              "        vertical-align: middle;\n",
              "    }\n",
              "\n",
              "    .dataframe tbody tr th {\n",
              "        vertical-align: top;\n",
              "    }\n",
              "\n",
              "    .dataframe thead th {\n",
              "        text-align: right;\n",
              "    }\n",
              "</style>\n",
              "<table border=\"1\" class=\"dataframe\">\n",
              "  <thead>\n",
              "    <tr style=\"text-align: right;\">\n",
              "      <th></th>\n",
              "      <th>0</th>\n",
              "      <th>1</th>\n",
              "      <th>2</th>\n",
              "      <th>3</th>\n",
              "      <th>4</th>\n",
              "      <th>5</th>\n",
              "      <th>6</th>\n",
              "    </tr>\n",
              "  </thead>\n",
              "  <tbody>\n",
              "    <tr>\n",
              "      <th>0</th>\n",
              "      <td>0.412861</td>\n",
              "      <td>5.188782</td>\n",
              "      <td>-1.063511</td>\n",
              "      <td>0.146784</td>\n",
              "      <td>-1.474260</td>\n",
              "      <td>-0.166370</td>\n",
              "      <td>-1.980679</td>\n",
              "    </tr>\n",
              "    <tr>\n",
              "      <th>1</th>\n",
              "      <td>-2.575354</td>\n",
              "      <td>-0.891957</td>\n",
              "      <td>3.184493</td>\n",
              "      <td>6.011419</td>\n",
              "      <td>0.130811</td>\n",
              "      <td>-2.282006</td>\n",
              "      <td>-1.967518</td>\n",
              "    </tr>\n",
              "    <tr>\n",
              "      <th>2</th>\n",
              "      <td>-1.979894</td>\n",
              "      <td>2.498472</td>\n",
              "      <td>2.519571</td>\n",
              "      <td>-2.694396</td>\n",
              "      <td>-0.928888</td>\n",
              "      <td>2.195098</td>\n",
              "      <td>-0.518384</td>\n",
              "    </tr>\n",
              "    <tr>\n",
              "      <th>3</th>\n",
              "      <td>-1.292943</td>\n",
              "      <td>-1.729540</td>\n",
              "      <td>0.406431</td>\n",
              "      <td>4.135991</td>\n",
              "      <td>3.629740</td>\n",
              "      <td>-1.688264</td>\n",
              "      <td>-1.754115</td>\n",
              "    </tr>\n",
              "    <tr>\n",
              "      <th>4</th>\n",
              "      <td>-0.816562</td>\n",
              "      <td>-0.082234</td>\n",
              "      <td>-0.734736</td>\n",
              "      <td>7.859262</td>\n",
              "      <td>-1.212286</td>\n",
              "      <td>-2.309785</td>\n",
              "      <td>-1.257305</td>\n",
              "    </tr>\n",
              "    <tr>\n",
              "      <th>...</th>\n",
              "      <td>...</td>\n",
              "      <td>...</td>\n",
              "      <td>...</td>\n",
              "      <td>...</td>\n",
              "      <td>...</td>\n",
              "      <td>...</td>\n",
              "      <td>...</td>\n",
              "    </tr>\n",
              "    <tr>\n",
              "      <th>2061</th>\n",
              "      <td>-0.975762</td>\n",
              "      <td>-1.660425</td>\n",
              "      <td>-0.557225</td>\n",
              "      <td>7.079540</td>\n",
              "      <td>0.261154</td>\n",
              "      <td>-2.294120</td>\n",
              "      <td>-0.544841</td>\n",
              "    </tr>\n",
              "    <tr>\n",
              "      <th>2062</th>\n",
              "      <td>-1.210391</td>\n",
              "      <td>2.439496</td>\n",
              "      <td>-1.635559</td>\n",
              "      <td>3.238791</td>\n",
              "      <td>-2.953864</td>\n",
              "      <td>-1.709801</td>\n",
              "      <td>2.175106</td>\n",
              "    </tr>\n",
              "    <tr>\n",
              "      <th>2063</th>\n",
              "      <td>2.271402</td>\n",
              "      <td>-2.156692</td>\n",
              "      <td>-1.862504</td>\n",
              "      <td>0.699720</td>\n",
              "      <td>-1.649312</td>\n",
              "      <td>-1.940457</td>\n",
              "      <td>4.768113</td>\n",
              "    </tr>\n",
              "    <tr>\n",
              "      <th>2064</th>\n",
              "      <td>-1.124261</td>\n",
              "      <td>-1.604066</td>\n",
              "      <td>-0.793462</td>\n",
              "      <td>0.860614</td>\n",
              "      <td>-1.593236</td>\n",
              "      <td>-1.678197</td>\n",
              "      <td>5.777840</td>\n",
              "    </tr>\n",
              "    <tr>\n",
              "      <th>2065</th>\n",
              "      <td>-0.799590</td>\n",
              "      <td>-0.519831</td>\n",
              "      <td>-0.563860</td>\n",
              "      <td>7.961991</td>\n",
              "      <td>-1.061780</td>\n",
              "      <td>-2.363783</td>\n",
              "      <td>-1.176834</td>\n",
              "    </tr>\n",
              "  </tbody>\n",
              "</table>\n",
              "<p>2066 rows × 7 columns</p>\n",
              "</div>\n",
              "      <button class=\"colab-df-convert\" onclick=\"convertToInteractive('df-55f663f1-06da-441f-8a12-c776b52bb807')\"\n",
              "              title=\"Convert this dataframe to an interactive table.\"\n",
              "              style=\"display:none;\">\n",
              "        \n",
              "  <svg xmlns=\"http://www.w3.org/2000/svg\" height=\"24px\"viewBox=\"0 0 24 24\"\n",
              "       width=\"24px\">\n",
              "    <path d=\"M0 0h24v24H0V0z\" fill=\"none\"/>\n",
              "    <path d=\"M18.56 5.44l.94 2.06.94-2.06 2.06-.94-2.06-.94-.94-2.06-.94 2.06-2.06.94zm-11 1L8.5 8.5l.94-2.06 2.06-.94-2.06-.94L8.5 2.5l-.94 2.06-2.06.94zm10 10l.94 2.06.94-2.06 2.06-.94-2.06-.94-.94-2.06-.94 2.06-2.06.94z\"/><path d=\"M17.41 7.96l-1.37-1.37c-.4-.4-.92-.59-1.43-.59-.52 0-1.04.2-1.43.59L10.3 9.45l-7.72 7.72c-.78.78-.78 2.05 0 2.83L4 21.41c.39.39.9.59 1.41.59.51 0 1.02-.2 1.41-.59l7.78-7.78 2.81-2.81c.8-.78.8-2.07 0-2.86zM5.41 20L4 18.59l7.72-7.72 1.47 1.35L5.41 20z\"/>\n",
              "  </svg>\n",
              "      </button>\n",
              "      \n",
              "  <style>\n",
              "    .colab-df-container {\n",
              "      display:flex;\n",
              "      flex-wrap:wrap;\n",
              "      gap: 12px;\n",
              "    }\n",
              "\n",
              "    .colab-df-convert {\n",
              "      background-color: #E8F0FE;\n",
              "      border: none;\n",
              "      border-radius: 50%;\n",
              "      cursor: pointer;\n",
              "      display: none;\n",
              "      fill: #1967D2;\n",
              "      height: 32px;\n",
              "      padding: 0 0 0 0;\n",
              "      width: 32px;\n",
              "    }\n",
              "\n",
              "    .colab-df-convert:hover {\n",
              "      background-color: #E2EBFA;\n",
              "      box-shadow: 0px 1px 2px rgba(60, 64, 67, 0.3), 0px 1px 3px 1px rgba(60, 64, 67, 0.15);\n",
              "      fill: #174EA6;\n",
              "    }\n",
              "\n",
              "    [theme=dark] .colab-df-convert {\n",
              "      background-color: #3B4455;\n",
              "      fill: #D2E3FC;\n",
              "    }\n",
              "\n",
              "    [theme=dark] .colab-df-convert:hover {\n",
              "      background-color: #434B5C;\n",
              "      box-shadow: 0px 1px 3px 1px rgba(0, 0, 0, 0.15);\n",
              "      filter: drop-shadow(0px 1px 2px rgba(0, 0, 0, 0.3));\n",
              "      fill: #FFFFFF;\n",
              "    }\n",
              "  </style>\n",
              "\n",
              "      <script>\n",
              "        const buttonEl =\n",
              "          document.querySelector('#df-55f663f1-06da-441f-8a12-c776b52bb807 button.colab-df-convert');\n",
              "        buttonEl.style.display =\n",
              "          google.colab.kernel.accessAllowed ? 'block' : 'none';\n",
              "\n",
              "        async function convertToInteractive(key) {\n",
              "          const element = document.querySelector('#df-55f663f1-06da-441f-8a12-c776b52bb807');\n",
              "          const dataTable =\n",
              "            await google.colab.kernel.invokeFunction('convertToInteractive',\n",
              "                                                     [key], {});\n",
              "          if (!dataTable) return;\n",
              "\n",
              "          const docLinkHtml = 'Like what you see? Visit the ' +\n",
              "            '<a target=\"_blank\" href=https://colab.research.google.com/notebooks/data_table.ipynb>data table notebook</a>'\n",
              "            + ' to learn more about interactive tables.';\n",
              "          element.innerHTML = '';\n",
              "          dataTable['output_type'] = 'display_data';\n",
              "          await google.colab.output.renderOutput(dataTable, element);\n",
              "          const docLink = document.createElement('div');\n",
              "          docLink.innerHTML = docLinkHtml;\n",
              "          element.appendChild(docLink);\n",
              "        }\n",
              "      </script>\n",
              "    </div>\n",
              "  </div>\n",
              "  "
            ]
          },
          "metadata": {},
          "execution_count": 19
        }
      ]
    },
    {
      "cell_type": "code",
      "source": [
        "fusion_li_predict_temp = fusion_li_predict.to_numpy()\n",
        "fusion_li_predict_temp = fusion_li_predict_temp.argmax(axis=1)"
      ],
      "metadata": {
        "id": "UPip0rMFZkaN"
      },
      "execution_count": 20,
      "outputs": []
    },
    {
      "cell_type": "code",
      "source": [
        "print('Wav-Txt Listener f1 score:', metrics.f1_score(y_li_test,fusion_li_predict_temp, average='weighted'))"
      ],
      "metadata": {
        "id": "FD9q-1LvZwwM",
        "colab": {
          "base_uri": "https://localhost:8080/"
        },
        "outputId": "61a23d20-b229-428b-c4ae-156c6536c9a9"
      },
      "execution_count": 21,
      "outputs": [
        {
          "output_type": "stream",
          "name": "stdout",
          "text": [
            "Wav-Txt Listener f1 score: 0.5860542995510882\n"
          ]
        }
      ]
    }
  ]
}