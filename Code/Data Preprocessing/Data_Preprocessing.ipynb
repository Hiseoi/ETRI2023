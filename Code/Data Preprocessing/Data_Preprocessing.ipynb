{
  "nbformat": 4,
  "nbformat_minor": 0,
  "metadata": {
    "colab": {
      "provenance": []
    },
    "kernelspec": {
      "name": "python3",
      "display_name": "Python 3"
    },
    "language_info": {
      "name": "python"
    }
  },
  "cells": [
    {
      "cell_type": "code",
      "source": [
        "import pandas as pd\n",
        "import csv\n",
        "import numpy as np\n",
        "import os"
      ],
      "metadata": {
        "id": "hlrHIsFNNW_K"
      },
      "execution_count": 1,
      "outputs": []
    },
    {
      "cell_type": "code",
      "source": [
        "from google.colab import drive\n",
        "drive.mount('/content/drive')"
      ],
      "metadata": {
        "colab": {
          "base_uri": "https://localhost:8080/"
        },
        "id": "Av0Y-j-eFqSY",
        "outputId": "d69d4a3e-42b9-4d3e-815e-4d8613ee5bb4"
      },
      "execution_count": 2,
      "outputs": [
        {
          "output_type": "stream",
          "name": "stdout",
          "text": [
            "Mounted at /content/drive\n"
          ]
        }
      ]
    },
    {
      "cell_type": "code",
      "source": [
        "def make_df(i):\n",
        "  if i<10:\n",
        "    f_anno_path = '/content/drive/MyDrive/ETRI/KEMDy19/annotation/Session0%d_F_res.csv' %i\n",
        "    m_anno_path = '/content/drive/MyDrive/ETRI/KEMDy19/annotation/Session0%d_M_res.csv' %i\n",
        "  else:\n",
        "    f_anno_path = '/content/drive/MyDrive/ETRI/KEMDy19/annotation/Session%d_F_res.csv' %i\n",
        "    m_anno_path = '/content/drive/MyDrive/ETRI/KEMDy19/annotation/Session%d_M_res.csv' %i\n",
        "\n",
        "\n",
        "\n",
        "  f_df = pd.DataFrame()\n",
        "  m_df = pd.DataFrame()\n",
        "\n",
        "  f_df = pd.read_csv(f_anno_path, usecols=[9,10])\n",
        "  f_df.rename(columns={'Segment ID':'Seg', 'Total Evaluation':'Emotion'}, inplace=True)\n",
        "  f_df = f_df.drop([0])\n",
        "\n",
        "  m_df = pd.read_csv(m_anno_path, usecols=[9,10])\n",
        "  m_df.rename(columns={'Segment ID':'Seg', 'Total Evaluation':'Emotion'}, inplace=True)\n",
        "  m_df = m_df.drop([0])\n",
        "\n",
        "  f_df['Role'] = 'Speaker'\n",
        "  m_df['Role'] = 'Speaker'\n",
        "\n",
        "  f_listener_index = []\n",
        "  m_listener_index = []\n",
        "\n",
        "  f_listener_index = f_df[f_df['Seg'].str.contains('M')].index \n",
        "  m_listener_index = m_df[m_df['Seg'].str.contains('F')].index\n",
        "\n",
        "  for i in f_listener_index:\n",
        "    f_df['Role'][i]='Listener'\n",
        "\n",
        "  for j in m_listener_index:\n",
        "    m_df['Role'][j]='Listener'\n",
        "\n",
        "  sp_df = pd.DataFrame()\n",
        "  li_df = pd.DataFrame()\n",
        "\n",
        "  f_sp = pd.DataFrame()\n",
        "  f_li = pd.DataFrame()\n",
        "  m_sp = pd.DataFrame()\n",
        "  m_li = pd.DataFrame()\n",
        "\n",
        "  sp_df = pd.concat([f_df[f_df['Role']=='Speaker'], m_df[m_df['Role']=='Speaker']])\n",
        "  li_df = pd.concat([f_df[f_df['Role']=='Listener'], m_df[m_df['Role']=='Listener']])\n",
        "\n",
        "  def Select(feat):\n",
        "    if \";\" in feat:\n",
        "      semicolon = feat.find(\";\")\n",
        "      return feat[:semicolon]\n",
        "    else:\n",
        "      return feat\n",
        "\n",
        "  sp_df['Emotion'] = sp_df['Emotion'].apply(lambda feat:Select(feat))\n",
        "  li_df['Emotion'] = li_df['Emotion'].apply(lambda feat:Select(feat))\n",
        "\n",
        "\n",
        "  return sp_df,li_df"
      ],
      "metadata": {
        "id": "zCDPhdPItCQd"
      },
      "execution_count": 3,
      "outputs": []
    },
    {
      "cell_type": "code",
      "source": [
        "sp_df_01, li_df_01 = make_df(1)\n",
        "sp_df_02, li_df_02 = make_df(2)\n",
        "sp_df_03, li_df_03 = make_df(3)\n",
        "sp_df_04, li_df_04 = make_df(4)\n",
        "sp_df_05, li_df_05 = make_df(5)\n",
        "sp_df_06, li_df_06 = make_df(6)\n",
        "sp_df_07, li_df_07 = make_df(7)\n",
        "sp_df_08, li_df_08 = make_df(8)\n",
        "sp_df_09, li_df_09 = make_df(9)\n",
        "sp_df_10, li_df_10 = make_df(10)\n",
        "sp_df_11, li_df_11 = make_df(11)\n",
        "sp_df_12, li_df_12 = make_df(12)\n",
        "sp_df_13, li_df_13 = make_df(13)\n",
        "sp_df_14, li_df_14 = make_df(14)\n",
        "sp_df_15, li_df_15 = make_df(15)\n",
        "sp_df_16, li_df_16 = make_df(16)\n",
        "sp_df_17, li_df_17 = make_df(17)\n",
        "sp_df_18, li_df_18 = make_df(18)\n",
        "sp_df_19, li_df_19 = make_df(19)\n",
        "sp_df_20, li_df_20 = make_df(20)"
      ],
      "metadata": {
        "id": "c2pAPT_ByQ5P"
      },
      "execution_count": 7,
      "outputs": []
    },
    {
      "cell_type": "code",
      "source": [
        "from sklearn.model_selection import train_test_split\n",
        "\n",
        "def make_train_test(num):\n",
        "  sp_train = pd.DataFrame()\n",
        "  sp_test = pd.DataFrame()\n",
        "  li_train = pd.DataFrame()\n",
        "  li_test = pd.DataFrame()\n",
        "  for i in range(num):\n",
        "    sp_df, li_df = make_df(i+1)\n",
        "\n",
        "    sp_train_temp, sp_test_temp = train_test_split(sp_df, test_size=0.2, random_state=42)\n",
        "    li_train_temp, li_test_temp = train_test_split(li_df, test_size=0.2, random_state=42)\n",
        "\n",
        "    sp_train = pd.concat([sp_train, sp_train_temp])\n",
        "    sp_test = pd.concat([sp_test, sp_test_temp])\n",
        "    li_train = pd.concat([li_train, li_train_temp])\n",
        "    li_test = pd.concat([li_test, li_test_temp])\n",
        "\n",
        "  return sp_train, sp_test, li_train, li_test"
      ],
      "metadata": {
        "id": "Z0IXjwHkK_55"
      },
      "execution_count": 8,
      "outputs": []
    },
    {
      "cell_type": "code",
      "source": [
        "sp_train, sp_test, li_train, li_test = make_train_test(20)"
      ],
      "metadata": {
        "id": "TrbxzbJaOoBp"
      },
      "execution_count": 9,
      "outputs": []
    },
    {
      "cell_type": "code",
      "source": [
        "sp_train.reset_index(drop=True, inplace=True)\n",
        "sp_test.reset_index(drop=True, inplace=True)\n",
        "li_train.reset_index(drop=True, inplace=True)\n",
        "li_test.reset_index(drop=True, inplace=True)"
      ],
      "metadata": {
        "id": "bDedce4mPN2q"
      },
      "execution_count": 12,
      "outputs": []
    },
    {
      "cell_type": "code",
      "source": [
        "def make_path(df):\n",
        "  df['wav_path'] = 0\n",
        "  df['txt_path'] = 0\n",
        "  for i in range(len(df)):\n",
        "    df['wav_path'][i] = '/content/drive/MyDrive/ETRI/KEMDy19/wav/'+df['Seg'][i][:4]+'ion'+df['Seg'][i][4:6]+'/'+df['Seg'][i][:-5]+'/'+df['Seg'][i]+'.wav'\n",
        "    df['txt_path'][i] = '/content/drive/MyDrive/ETRI/KEMDy19/wav/'+df['Seg'][i][:4]+'ion'+df['Seg'][i][4:6]+'/'+df['Seg'][i][:-5]+'/'+df['Seg'][i]+'.txt'\n",
        "\n",
        "  return df"
      ],
      "metadata": {
        "id": "CfBASZ0_ZowN"
      },
      "execution_count": 14,
      "outputs": []
    },
    {
      "cell_type": "code",
      "source": [
        "sp_train = make_path(sp_train)\n",
        "sp_test = make_path(sp_test)\n",
        "li_train = make_path(li_train)\n",
        "li_test = make_path(li_test)"
      ],
      "metadata": {
        "colab": {
          "base_uri": "https://localhost:8080/"
        },
        "id": "4JXRqqMFZ1-a",
        "outputId": "4ca3a1f7-3af5-4a9c-ba81-5db40aa061f8"
      },
      "execution_count": 15,
      "outputs": [
        {
          "output_type": "stream",
          "name": "stderr",
          "text": [
            "<ipython-input-14-a110b6b83a0b>:5: SettingWithCopyWarning: \n",
            "A value is trying to be set on a copy of a slice from a DataFrame\n",
            "\n",
            "See the caveats in the documentation: https://pandas.pydata.org/pandas-docs/stable/user_guide/indexing.html#returning-a-view-versus-a-copy\n",
            "  df['wav_path'][i] = '/content/drive/MyDrive/ETRI/KEMDy19/wav/'+df['Seg'][i][:4]+'ion'+df['Seg'][i][4:6]+'/'+df['Seg'][i][:-5]+'/'+df['Seg'][i]+'.wav'\n",
            "<ipython-input-14-a110b6b83a0b>:6: SettingWithCopyWarning: \n",
            "A value is trying to be set on a copy of a slice from a DataFrame\n",
            "\n",
            "See the caveats in the documentation: https://pandas.pydata.org/pandas-docs/stable/user_guide/indexing.html#returning-a-view-versus-a-copy\n",
            "  df['txt_path'][i] = '/content/drive/MyDrive/ETRI/KEMDy19/wav/'+df['Seg'][i][:4]+'ion'+df['Seg'][i][4:6]+'/'+df['Seg'][i][:-5]+'/'+df['Seg'][i]+'.txt'\n",
            "<ipython-input-14-a110b6b83a0b>:5: SettingWithCopyWarning: \n",
            "A value is trying to be set on a copy of a slice from a DataFrame\n",
            "\n",
            "See the caveats in the documentation: https://pandas.pydata.org/pandas-docs/stable/user_guide/indexing.html#returning-a-view-versus-a-copy\n",
            "  df['wav_path'][i] = '/content/drive/MyDrive/ETRI/KEMDy19/wav/'+df['Seg'][i][:4]+'ion'+df['Seg'][i][4:6]+'/'+df['Seg'][i][:-5]+'/'+df['Seg'][i]+'.wav'\n",
            "<ipython-input-14-a110b6b83a0b>:6: SettingWithCopyWarning: \n",
            "A value is trying to be set on a copy of a slice from a DataFrame\n",
            "\n",
            "See the caveats in the documentation: https://pandas.pydata.org/pandas-docs/stable/user_guide/indexing.html#returning-a-view-versus-a-copy\n",
            "  df['txt_path'][i] = '/content/drive/MyDrive/ETRI/KEMDy19/wav/'+df['Seg'][i][:4]+'ion'+df['Seg'][i][4:6]+'/'+df['Seg'][i][:-5]+'/'+df['Seg'][i]+'.txt'\n",
            "<ipython-input-14-a110b6b83a0b>:5: SettingWithCopyWarning: \n",
            "A value is trying to be set on a copy of a slice from a DataFrame\n",
            "\n",
            "See the caveats in the documentation: https://pandas.pydata.org/pandas-docs/stable/user_guide/indexing.html#returning-a-view-versus-a-copy\n",
            "  df['wav_path'][i] = '/content/drive/MyDrive/ETRI/KEMDy19/wav/'+df['Seg'][i][:4]+'ion'+df['Seg'][i][4:6]+'/'+df['Seg'][i][:-5]+'/'+df['Seg'][i]+'.wav'\n",
            "<ipython-input-14-a110b6b83a0b>:6: SettingWithCopyWarning: \n",
            "A value is trying to be set on a copy of a slice from a DataFrame\n",
            "\n",
            "See the caveats in the documentation: https://pandas.pydata.org/pandas-docs/stable/user_guide/indexing.html#returning-a-view-versus-a-copy\n",
            "  df['txt_path'][i] = '/content/drive/MyDrive/ETRI/KEMDy19/wav/'+df['Seg'][i][:4]+'ion'+df['Seg'][i][4:6]+'/'+df['Seg'][i][:-5]+'/'+df['Seg'][i]+'.txt'\n",
            "<ipython-input-14-a110b6b83a0b>:5: SettingWithCopyWarning: \n",
            "A value is trying to be set on a copy of a slice from a DataFrame\n",
            "\n",
            "See the caveats in the documentation: https://pandas.pydata.org/pandas-docs/stable/user_guide/indexing.html#returning-a-view-versus-a-copy\n",
            "  df['wav_path'][i] = '/content/drive/MyDrive/ETRI/KEMDy19/wav/'+df['Seg'][i][:4]+'ion'+df['Seg'][i][4:6]+'/'+df['Seg'][i][:-5]+'/'+df['Seg'][i]+'.wav'\n",
            "<ipython-input-14-a110b6b83a0b>:6: SettingWithCopyWarning: \n",
            "A value is trying to be set on a copy of a slice from a DataFrame\n",
            "\n",
            "See the caveats in the documentation: https://pandas.pydata.org/pandas-docs/stable/user_guide/indexing.html#returning-a-view-versus-a-copy\n",
            "  df['txt_path'][i] = '/content/drive/MyDrive/ETRI/KEMDy19/wav/'+df['Seg'][i][:4]+'ion'+df['Seg'][i][4:6]+'/'+df['Seg'][i][:-5]+'/'+df['Seg'][i]+'.txt'\n"
          ]
        }
      ]
    },
    {
      "cell_type": "code",
      "source": [
        "sp_train.to_csv(\"/content/drive/MyDrive/ETRI/sp_train.csv\", mode='w')\n",
        "sp_test.to_csv(\"/content/drive/MyDrive/ETRI/sp_test.csv\", mode='w')\n",
        "li_train.to_csv(\"/content/drive/MyDrive/ETRI/li_train.csv\", mode='w')\n",
        "li_test.to_csv(\"/content/drive/MyDrive/ETRI/li_test.csv\", mode='w')"
      ],
      "metadata": {
        "id": "SRuQIG1ORdZt"
      },
      "execution_count": null,
      "outputs": []
    },
    {
      "cell_type": "code",
      "source": [],
      "metadata": {
        "id": "a8CG1UqXdaUq"
      },
      "execution_count": null,
      "outputs": []
    }
  ]
}